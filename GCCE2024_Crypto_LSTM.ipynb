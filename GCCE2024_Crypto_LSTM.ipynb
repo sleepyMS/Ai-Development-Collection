{
  "nbformat": 4,
  "nbformat_minor": 0,
  "metadata": {
    "colab": {
      "provenance": [],
      "gpuType": "T4",
      "toc_visible": true,
      "include_colab_link": true
    },
    "kernelspec": {
      "name": "python3",
      "display_name": "Python 3"
    },
    "language_info": {
      "name": "python"
    },
    "accelerator": "GPU"
  },
  "cells": [
    {
      "cell_type": "markdown",
      "metadata": {
        "id": "view-in-github",
        "colab_type": "text"
      },
      "source": [
        "<a href=\"https://colab.research.google.com/github/sleepyMS/Ai-Development-Collection/blob/main/GCCE2024_Crypto_LSTM.ipynb\" target=\"_parent\"><img src=\"https://colab.research.google.com/assets/colab-badge.svg\" alt=\"Open In Colab\"/></a>"
      ]
    },
    {
      "cell_type": "code",
      "execution_count": null,
      "metadata": {
        "id": "6ggP8c0xJ4oo"
      },
      "outputs": [],
      "source": [
        "import time\n",
        "import pandas as pd\n",
        "import numpy as np\n",
        "import pprint\n",
        "import datetime\n",
        "import matplotlib.pyplot as plt\n",
        "from sklearn.preprocessing import MinMaxScaler\n",
        "from scipy.stats import pearsonr"
      ]
    },
    {
      "cell_type": "code",
      "source": [
        "import sys\n",
        "print(sys.version)"
      ],
      "metadata": {
        "colab": {
          "base_uri": "https://localhost:8080/"
        },
        "id": "Ug0SqJY6_sXI",
        "outputId": "a39e5dc6-ce9f-480d-bdb0-6987c92a2414"
      },
      "execution_count": null,
      "outputs": [
        {
          "output_type": "stream",
          "name": "stdout",
          "text": [
            "3.10.12 (main, Nov 20 2023, 15:14:05) [GCC 11.4.0]\n"
          ]
        }
      ]
    },
    {
      "cell_type": "markdown",
      "source": [
        "## Data init"
      ],
      "metadata": {
        "id": "Qkx0dfAHHhXR"
      }
    },
    {
      "cell_type": "code",
      "source": [
        "df_btc = pd.read_csv('./BINANCE_BTCUSDT, 1D.csv')\n",
        "df_doge = pd.read_csv('./BINANCE_DOGEUSDT, 1D.csv')\n",
        "df_eth = pd.read_csv('./BINANCE_ETHUSDT, 1D.csv')\n",
        "df_ltc = pd.read_csv('./BINANCE_LTCUSDT, 1D.csv')\n",
        "df_xrp = pd.read_csv('./BINANCE_XRPUSDT, 1D.csv')"
      ],
      "metadata": {
        "id": "4w_SCBAQMJln"
      },
      "execution_count": null,
      "outputs": []
    },
    {
      "cell_type": "code",
      "source": [
        "# 대상 코인 df\n",
        "df = df_xrp.iloc[:,1:]\n",
        "df_close = pd.DataFrame(df.iloc[:, 3], columns=['close'])\n",
        "\n",
        "# 실제 테스트 결과 데이터 수익률 확인\n",
        "result_test = [{'high': df['high'][i], 'low': df['low'][i], 'close': df['close'][i]} for i in range(len(df))]\n",
        "\n",
        "# 개선된 목표 데이터\n",
        "improve_close = [df['close'][0]]\n",
        "for i in range(1, len(df)):\n",
        "  if df['close'][i-1] < df['close'][i]:\n",
        "    improve_close.append(df['high'][i])\n",
        "  elif df['close'][i-1] > df['close'][i]:\n",
        "    improve_close.append(df['low'][i])\n",
        "  else:\n",
        "    improve_close.append(df['close'][i])\n",
        "\n",
        "# 개선된 목표 데이터 (Ver.array)\n",
        "improve_close = np.array(improve_close)\n",
        "# 개선된 목표 데이터 (Ver.df)\n",
        "df_model = pd.DataFrame(improve_close, columns=['improve'])"
      ],
      "metadata": {
        "id": "GkKvn_KHMXty"
      },
      "execution_count": null,
      "outputs": []
    },
    {
      "cell_type": "markdown",
      "source": [
        "## Min Max Scaling"
      ],
      "metadata": {
        "id": "keyFwSfSQ2d0"
      }
    },
    {
      "cell_type": "code",
      "source": [
        "# 두 데이터프레임을 결합\n",
        "combined_df = pd.concat([df, df_model], axis=1)\n",
        "\n",
        "# 결합된 데이터프레임에 스케일링 적용\n",
        "scaler = MinMaxScaler()\n",
        "scaler.fit(combined_df)\n",
        "combined_scaled = scaler.transform(combined_df)\n",
        "\n",
        "# combined_scaled"
      ],
      "metadata": {
        "id": "g8E2IeFIQ8ht"
      },
      "execution_count": null,
      "outputs": []
    },
    {
      "cell_type": "markdown",
      "source": [
        "## Batch data 제작"
      ],
      "metadata": {
        "id": "s9mzKNNjdQSP"
      }
    },
    {
      "cell_type": "code",
      "source": [
        "# 3 : 종가, 9 : 개선 데이터\n",
        "majorData = 9\n",
        "\n",
        "x = combined_scaled[:, [0,1,2,3]].copy()\n",
        "y = combined_scaled[:, majorData].copy()\n",
        "\n",
        "scaler = MinMaxScaler()\n",
        "if majorData == 9:\n",
        "  # 결과 출력을 위한 fit 처리 (Ver.improve)\n",
        "  y_fit = y.reshape(len(y),1)\n",
        "  scaler.fit(df_model)\n",
        "elif majorData == 3:\n",
        "  # 결과 출력을 위한 fit 처리 (Ver.close)\n",
        "  y_fit = y.reshape(len(y),1)\n",
        "  scaler.fit(df_close)\n"
      ],
      "metadata": {
        "id": "Lg9BTZUCSk-Y"
      },
      "execution_count": null,
      "outputs": []
    },
    {
      "cell_type": "code",
      "source": [
        "# 타임 스탬프 길이\n",
        "timestemps = 14\n",
        "\n",
        "x_seq = []\n",
        "y_seq = []\n",
        "result_seq = []\n",
        "\n",
        "for i in range(len(y) - timestemps):\n",
        "  x_seq.append(x[i:i+timestemps, :])\n",
        "  y_seq.append(y[i+timestemps])\n",
        "  result_seq.append(result_test[i+timestemps])\n",
        "\n",
        "x_seq = np.array(x_seq)\n",
        "y_seq = np.array(y_seq)\n",
        "result_seq = np.array(result_seq)\n",
        "\n",
        "x_seq.shape, y_seq.shape, result_seq.shape"
      ],
      "metadata": {
        "colab": {
          "base_uri": "https://localhost:8080/"
        },
        "id": "33QVdyT_d-_Q",
        "outputId": "86da3ef6-2049-4b61-c21f-9cb1ef270224"
      },
      "execution_count": null,
      "outputs": [
        {
          "output_type": "execute_result",
          "data": {
            "text/plain": [
              "((1416, 14, 4), (1416,), (1416,))"
            ]
          },
          "metadata": {},
          "execution_count": 22
        }
      ]
    },
    {
      "cell_type": "code",
      "source": [
        "train_size = int(len(x_seq) * 0.6)\n",
        "val_size = int(len(x_seq) * 0.2)"
      ],
      "metadata": {
        "id": "Zrsbi62MfqDw"
      },
      "execution_count": null,
      "outputs": []
    },
    {
      "cell_type": "code",
      "source": [
        "x_train = x_seq[:train_size].copy()\n",
        "y_train = y_seq[:train_size].copy()\n",
        "x_val = x_seq[train_size:train_size+val_size].copy()\n",
        "y_val = y_seq[train_size:train_size+val_size].copy()\n",
        "x_test = x_seq[train_size+val_size:].copy()\n",
        "y_test = y_seq[train_size+val_size:].copy()\n",
        "\n",
        "result_seq = result_seq[train_size+val_size:].copy()\n",
        "\n",
        "x_train.shape, y_train.shape, x_val.shape, y_val.shape, x_test.shape, y_test.shape"
      ],
      "metadata": {
        "colab": {
          "base_uri": "https://localhost:8080/"
        },
        "id": "UziXn3hX04Ec",
        "outputId": "ba58686a-8f05-49ad-95f3-27da16551153"
      },
      "execution_count": null,
      "outputs": [
        {
          "output_type": "execute_result",
          "data": {
            "text/plain": [
              "((849, 14, 4), (849,), (283, 14, 4), (283,), (284, 14, 4), (284,))"
            ]
          },
          "metadata": {},
          "execution_count": 24
        }
      ]
    },
    {
      "cell_type": "markdown",
      "source": [
        "## Model Trainig"
      ],
      "metadata": {
        "id": "fY-ntHN66OP3"
      }
    },
    {
      "cell_type": "code",
      "source": [
        "from tensorflow.keras.backend import clear_session\n",
        "from tensorflow.keras.models import Sequential\n",
        "from tensorflow.keras.layers import LSTM, Dense, Dropout, BatchNormalization\n",
        "from tensorflow.keras.optimizers import Adam\n",
        "from tensorflow.keras.losses import mse, MeanSquaredError, huber, mae\n",
        "from tensorflow.keras.callbacks import EarlyStopping, ModelCheckpoint\n",
        "from tensorflow.keras.models import load_model"
      ],
      "metadata": {
        "id": "X2It-lUH1TE5"
      },
      "execution_count": null,
      "outputs": []
    },
    {
      "cell_type": "code",
      "source": [
        "clear_session()\n",
        "\n",
        "# 모델 정의\n",
        "model = Sequential([\n",
        "    LSTM(256, input_shape=x_seq[0].shape, return_sequences=True),\n",
        "    Dropout(0.05),\n",
        "    # BatchNormalization(),\n",
        "    LSTM(128, return_sequences=False),\n",
        "    Dropout(0.05),\n",
        "    # BatchNormalization(),\n",
        "    Dense(64, activation='relu'),\n",
        "    Dense(1)\n",
        "])\n",
        "\n",
        "# 옵티마이저와 손실 함수 정의\n",
        "opt = Adam(learning_rate=0.001)\n",
        "loss = MeanSquaredError()\n",
        "\n",
        "# 모델 컴파일\n",
        "model.compile(loss=loss, optimizer=opt, metrics=['mse'])\n",
        "model.summary()\n",
        "\n",
        "# 조기 종료 콜백 생성\n",
        "early_stopping = EarlyStopping(monitor='val_loss', patience=10, restore_best_weights=True)\n",
        "# 최적 모델 저장 콜백 생성\n",
        "# model_checkpoint = ModelCheckpoint('best_model.h5', save_best_only=True, monitor='val_loss')\n",
        "\n",
        "# 모델 훈련 시 콜백 추가\n",
        "model.fit(x_train, y_train, batch_size=32, epochs=100, verbose=1, validation_data=(x_val, y_val), callbacks=[early_stopping])\n",
        "model.summary()\n"
      ],
      "metadata": {
        "colab": {
          "base_uri": "https://localhost:8080/"
        },
        "id": "B2avocNW1a7T",
        "outputId": "8dd24232-bd0f-4bca-ec32-7e24db2aa163"
      },
      "execution_count": null,
      "outputs": [
        {
          "output_type": "stream",
          "name": "stdout",
          "text": [
            "Model: \"sequential\"\n",
            "_________________________________________________________________\n",
            " Layer (type)                Output Shape              Param #   \n",
            "=================================================================\n",
            " lstm (LSTM)                 (None, 14, 256)           267264    \n",
            "                                                                 \n",
            " dropout (Dropout)           (None, 14, 256)           0         \n",
            "                                                                 \n",
            " lstm_1 (LSTM)               (None, 128)               197120    \n",
            "                                                                 \n",
            " dropout_1 (Dropout)         (None, 128)               0         \n",
            "                                                                 \n",
            " dense (Dense)               (None, 64)                8256      \n",
            "                                                                 \n",
            " dense_1 (Dense)             (None, 1)                 65        \n",
            "                                                                 \n",
            "=================================================================\n",
            "Total params: 472705 (1.80 MB)\n",
            "Trainable params: 472705 (1.80 MB)\n",
            "Non-trainable params: 0 (0.00 Byte)\n",
            "_________________________________________________________________\n",
            "Epoch 1/100\n",
            "27/27 [==============================] - 5s 36ms/step - loss: 0.0146 - mse: 0.0146 - val_loss: 0.0011 - val_mse: 0.0011\n",
            "Epoch 2/100\n",
            "27/27 [==============================] - 0s 9ms/step - loss: 0.0045 - mse: 0.0045 - val_loss: 3.5764e-04 - val_mse: 3.5764e-04\n",
            "Epoch 3/100\n",
            "27/27 [==============================] - 0s 10ms/step - loss: 0.0044 - mse: 0.0044 - val_loss: 3.7960e-04 - val_mse: 3.7960e-04\n",
            "Epoch 4/100\n",
            "27/27 [==============================] - 0s 9ms/step - loss: 0.0037 - mse: 0.0037 - val_loss: 4.8240e-04 - val_mse: 4.8240e-04\n",
            "Epoch 5/100\n",
            "27/27 [==============================] - 0s 10ms/step - loss: 0.0038 - mse: 0.0038 - val_loss: 7.5353e-04 - val_mse: 7.5353e-04\n",
            "Epoch 6/100\n",
            "27/27 [==============================] - 0s 9ms/step - loss: 0.0038 - mse: 0.0038 - val_loss: 2.8364e-04 - val_mse: 2.8364e-04\n",
            "Epoch 7/100\n",
            "27/27 [==============================] - 0s 8ms/step - loss: 0.0034 - mse: 0.0034 - val_loss: 2.5950e-04 - val_mse: 2.5950e-04\n",
            "Epoch 8/100\n",
            "27/27 [==============================] - 0s 10ms/step - loss: 0.0030 - mse: 0.0030 - val_loss: 2.5159e-04 - val_mse: 2.5159e-04\n",
            "Epoch 9/100\n",
            "27/27 [==============================] - 0s 10ms/step - loss: 0.0029 - mse: 0.0029 - val_loss: 2.9794e-04 - val_mse: 2.9794e-04\n",
            "Epoch 10/100\n",
            "27/27 [==============================] - 0s 8ms/step - loss: 0.0029 - mse: 0.0029 - val_loss: 6.4150e-04 - val_mse: 6.4150e-04\n",
            "Epoch 11/100\n",
            "27/27 [==============================] - 0s 8ms/step - loss: 0.0026 - mse: 0.0026 - val_loss: 5.6359e-04 - val_mse: 5.6359e-04\n",
            "Epoch 12/100\n",
            "27/27 [==============================] - 0s 11ms/step - loss: 0.0027 - mse: 0.0027 - val_loss: 3.2955e-04 - val_mse: 3.2955e-04\n",
            "Epoch 13/100\n",
            "27/27 [==============================] - 0s 9ms/step - loss: 0.0024 - mse: 0.0024 - val_loss: 2.7943e-04 - val_mse: 2.7943e-04\n",
            "Epoch 14/100\n",
            "27/27 [==============================] - 1s 23ms/step - loss: 0.0025 - mse: 0.0025 - val_loss: 4.6135e-04 - val_mse: 4.6135e-04\n",
            "Epoch 15/100\n",
            "27/27 [==============================] - 0s 9ms/step - loss: 0.0023 - mse: 0.0023 - val_loss: 2.6167e-04 - val_mse: 2.6167e-04\n",
            "Epoch 16/100\n",
            "27/27 [==============================] - 0s 10ms/step - loss: 0.0027 - mse: 0.0027 - val_loss: 3.6856e-04 - val_mse: 3.6856e-04\n",
            "Epoch 17/100\n",
            "27/27 [==============================] - 0s 8ms/step - loss: 0.0023 - mse: 0.0023 - val_loss: 2.3100e-04 - val_mse: 2.3100e-04\n",
            "Epoch 18/100\n",
            "27/27 [==============================] - 0s 9ms/step - loss: 0.0025 - mse: 0.0025 - val_loss: 3.0364e-04 - val_mse: 3.0364e-04\n",
            "Epoch 19/100\n",
            "27/27 [==============================] - 0s 10ms/step - loss: 0.0023 - mse: 0.0023 - val_loss: 2.0509e-04 - val_mse: 2.0509e-04\n",
            "Epoch 20/100\n",
            "27/27 [==============================] - 0s 9ms/step - loss: 0.0025 - mse: 0.0025 - val_loss: 2.2949e-04 - val_mse: 2.2949e-04\n",
            "Epoch 21/100\n",
            "27/27 [==============================] - 0s 9ms/step - loss: 0.0028 - mse: 0.0028 - val_loss: 4.7055e-04 - val_mse: 4.7055e-04\n",
            "Epoch 22/100\n",
            "27/27 [==============================] - 0s 9ms/step - loss: 0.0020 - mse: 0.0020 - val_loss: 2.1335e-04 - val_mse: 2.1335e-04\n",
            "Epoch 23/100\n",
            "27/27 [==============================] - 0s 12ms/step - loss: 0.0020 - mse: 0.0020 - val_loss: 2.0164e-04 - val_mse: 2.0164e-04\n",
            "Epoch 24/100\n",
            "27/27 [==============================] - 0s 12ms/step - loss: 0.0021 - mse: 0.0021 - val_loss: 2.2029e-04 - val_mse: 2.2029e-04\n",
            "Epoch 25/100\n",
            "27/27 [==============================] - 0s 11ms/step - loss: 0.0020 - mse: 0.0020 - val_loss: 2.0570e-04 - val_mse: 2.0570e-04\n",
            "Epoch 26/100\n",
            "27/27 [==============================] - 0s 12ms/step - loss: 0.0020 - mse: 0.0020 - val_loss: 1.9528e-04 - val_mse: 1.9528e-04\n",
            "Epoch 27/100\n",
            "27/27 [==============================] - 0s 12ms/step - loss: 0.0019 - mse: 0.0019 - val_loss: 3.2597e-04 - val_mse: 3.2597e-04\n",
            "Epoch 28/100\n",
            "27/27 [==============================] - 0s 13ms/step - loss: 0.0022 - mse: 0.0022 - val_loss: 2.3516e-04 - val_mse: 2.3516e-04\n",
            "Epoch 29/100\n",
            "27/27 [==============================] - 0s 13ms/step - loss: 0.0019 - mse: 0.0019 - val_loss: 3.0605e-04 - val_mse: 3.0605e-04\n",
            "Epoch 30/100\n",
            "27/27 [==============================] - 0s 13ms/step - loss: 0.0020 - mse: 0.0020 - val_loss: 2.0225e-04 - val_mse: 2.0225e-04\n",
            "Epoch 31/100\n",
            "27/27 [==============================] - 0s 8ms/step - loss: 0.0021 - mse: 0.0021 - val_loss: 1.9752e-04 - val_mse: 1.9752e-04\n",
            "Epoch 32/100\n",
            "27/27 [==============================] - 0s 9ms/step - loss: 0.0020 - mse: 0.0020 - val_loss: 1.9417e-04 - val_mse: 1.9417e-04\n",
            "Epoch 33/100\n",
            "27/27 [==============================] - 0s 9ms/step - loss: 0.0022 - mse: 0.0022 - val_loss: 2.9055e-04 - val_mse: 2.9055e-04\n",
            "Epoch 34/100\n",
            "27/27 [==============================] - 0s 10ms/step - loss: 0.0020 - mse: 0.0020 - val_loss: 1.8986e-04 - val_mse: 1.8986e-04\n",
            "Epoch 35/100\n",
            "27/27 [==============================] - 0s 10ms/step - loss: 0.0021 - mse: 0.0021 - val_loss: 1.9970e-04 - val_mse: 1.9970e-04\n",
            "Epoch 36/100\n",
            "27/27 [==============================] - 0s 8ms/step - loss: 0.0018 - mse: 0.0018 - val_loss: 1.9320e-04 - val_mse: 1.9320e-04\n",
            "Epoch 37/100\n",
            "27/27 [==============================] - 0s 9ms/step - loss: 0.0020 - mse: 0.0020 - val_loss: 2.2425e-04 - val_mse: 2.2425e-04\n",
            "Epoch 38/100\n",
            "27/27 [==============================] - 0s 8ms/step - loss: 0.0020 - mse: 0.0020 - val_loss: 1.8635e-04 - val_mse: 1.8635e-04\n",
            "Epoch 39/100\n",
            "27/27 [==============================] - 0s 8ms/step - loss: 0.0020 - mse: 0.0020 - val_loss: 2.5531e-04 - val_mse: 2.5531e-04\n",
            "Epoch 40/100\n",
            "27/27 [==============================] - 0s 11ms/step - loss: 0.0022 - mse: 0.0022 - val_loss: 2.4217e-04 - val_mse: 2.4217e-04\n",
            "Epoch 41/100\n",
            "27/27 [==============================] - 0s 10ms/step - loss: 0.0020 - mse: 0.0020 - val_loss: 2.0511e-04 - val_mse: 2.0511e-04\n",
            "Epoch 42/100\n",
            "27/27 [==============================] - 0s 9ms/step - loss: 0.0022 - mse: 0.0022 - val_loss: 2.6274e-04 - val_mse: 2.6274e-04\n",
            "Epoch 43/100\n",
            "27/27 [==============================] - 0s 10ms/step - loss: 0.0019 - mse: 0.0019 - val_loss: 3.4624e-04 - val_mse: 3.4624e-04\n",
            "Epoch 44/100\n",
            "27/27 [==============================] - 0s 10ms/step - loss: 0.0018 - mse: 0.0018 - val_loss: 1.8786e-04 - val_mse: 1.8786e-04\n",
            "Epoch 45/100\n",
            "27/27 [==============================] - 0s 10ms/step - loss: 0.0020 - mse: 0.0020 - val_loss: 1.8119e-04 - val_mse: 1.8119e-04\n",
            "Epoch 46/100\n",
            "27/27 [==============================] - 0s 8ms/step - loss: 0.0019 - mse: 0.0019 - val_loss: 2.2938e-04 - val_mse: 2.2938e-04\n",
            "Epoch 47/100\n",
            "27/27 [==============================] - 0s 10ms/step - loss: 0.0019 - mse: 0.0019 - val_loss: 1.8239e-04 - val_mse: 1.8239e-04\n",
            "Epoch 48/100\n",
            "27/27 [==============================] - 0s 8ms/step - loss: 0.0019 - mse: 0.0019 - val_loss: 3.2100e-04 - val_mse: 3.2100e-04\n",
            "Epoch 49/100\n",
            "27/27 [==============================] - 0s 8ms/step - loss: 0.0019 - mse: 0.0019 - val_loss: 1.8130e-04 - val_mse: 1.8130e-04\n",
            "Epoch 50/100\n",
            "27/27 [==============================] - 0s 8ms/step - loss: 0.0020 - mse: 0.0020 - val_loss: 2.8738e-04 - val_mse: 2.8738e-04\n",
            "Epoch 51/100\n",
            "27/27 [==============================] - 0s 10ms/step - loss: 0.0021 - mse: 0.0021 - val_loss: 4.7978e-04 - val_mse: 4.7978e-04\n",
            "Epoch 52/100\n",
            "27/27 [==============================] - 0s 10ms/step - loss: 0.0019 - mse: 0.0019 - val_loss: 1.8026e-04 - val_mse: 1.8026e-04\n",
            "Epoch 53/100\n",
            "27/27 [==============================] - 0s 10ms/step - loss: 0.0019 - mse: 0.0019 - val_loss: 1.9871e-04 - val_mse: 1.9871e-04\n",
            "Epoch 54/100\n",
            "27/27 [==============================] - 0s 9ms/step - loss: 0.0019 - mse: 0.0019 - val_loss: 2.4205e-04 - val_mse: 2.4205e-04\n",
            "Epoch 55/100\n",
            "27/27 [==============================] - 0s 9ms/step - loss: 0.0021 - mse: 0.0021 - val_loss: 1.9912e-04 - val_mse: 1.9912e-04\n",
            "Epoch 56/100\n",
            "27/27 [==============================] - 0s 8ms/step - loss: 0.0018 - mse: 0.0018 - val_loss: 1.9977e-04 - val_mse: 1.9977e-04\n",
            "Epoch 57/100\n",
            "27/27 [==============================] - 0s 10ms/step - loss: 0.0019 - mse: 0.0019 - val_loss: 2.0149e-04 - val_mse: 2.0149e-04\n",
            "Epoch 58/100\n",
            "27/27 [==============================] - 0s 8ms/step - loss: 0.0019 - mse: 0.0019 - val_loss: 2.1308e-04 - val_mse: 2.1308e-04\n",
            "Epoch 59/100\n",
            "27/27 [==============================] - 0s 11ms/step - loss: 0.0018 - mse: 0.0018 - val_loss: 1.7974e-04 - val_mse: 1.7974e-04\n",
            "Epoch 60/100\n",
            "27/27 [==============================] - 0s 8ms/step - loss: 0.0019 - mse: 0.0019 - val_loss: 1.8320e-04 - val_mse: 1.8320e-04\n",
            "Epoch 61/100\n",
            "27/27 [==============================] - 0s 8ms/step - loss: 0.0019 - mse: 0.0019 - val_loss: 1.9474e-04 - val_mse: 1.9474e-04\n",
            "Epoch 62/100\n",
            "27/27 [==============================] - 0s 8ms/step - loss: 0.0019 - mse: 0.0019 - val_loss: 2.1769e-04 - val_mse: 2.1769e-04\n",
            "Epoch 63/100\n",
            "27/27 [==============================] - 0s 10ms/step - loss: 0.0018 - mse: 0.0018 - val_loss: 1.7581e-04 - val_mse: 1.7581e-04\n",
            "Epoch 64/100\n",
            "27/27 [==============================] - 0s 10ms/step - loss: 0.0018 - mse: 0.0018 - val_loss: 1.7200e-04 - val_mse: 1.7200e-04\n",
            "Epoch 65/100\n",
            "27/27 [==============================] - 0s 9ms/step - loss: 0.0018 - mse: 0.0018 - val_loss: 2.0865e-04 - val_mse: 2.0865e-04\n",
            "Epoch 66/100\n",
            "27/27 [==============================] - 0s 8ms/step - loss: 0.0018 - mse: 0.0018 - val_loss: 1.9660e-04 - val_mse: 1.9660e-04\n",
            "Epoch 67/100\n",
            "27/27 [==============================] - 0s 10ms/step - loss: 0.0019 - mse: 0.0019 - val_loss: 2.3675e-04 - val_mse: 2.3675e-04\n",
            "Epoch 68/100\n",
            "27/27 [==============================] - 0s 8ms/step - loss: 0.0018 - mse: 0.0018 - val_loss: 1.9060e-04 - val_mse: 1.9060e-04\n",
            "Epoch 69/100\n",
            "27/27 [==============================] - 0s 9ms/step - loss: 0.0019 - mse: 0.0019 - val_loss: 2.7155e-04 - val_mse: 2.7155e-04\n",
            "Epoch 70/100\n",
            "27/27 [==============================] - 0s 9ms/step - loss: 0.0020 - mse: 0.0020 - val_loss: 1.8681e-04 - val_mse: 1.8681e-04\n",
            "Epoch 71/100\n",
            "27/27 [==============================] - 0s 14ms/step - loss: 0.0019 - mse: 0.0019 - val_loss: 3.2329e-04 - val_mse: 3.2329e-04\n",
            "Epoch 72/100\n",
            "27/27 [==============================] - 0s 13ms/step - loss: 0.0021 - mse: 0.0021 - val_loss: 3.0813e-04 - val_mse: 3.0813e-04\n",
            "Epoch 73/100\n",
            "27/27 [==============================] - 0s 11ms/step - loss: 0.0018 - mse: 0.0018 - val_loss: 1.8539e-04 - val_mse: 1.8539e-04\n",
            "Epoch 74/100\n",
            "27/27 [==============================] - 0s 16ms/step - loss: 0.0017 - mse: 0.0017 - val_loss: 1.7387e-04 - val_mse: 1.7387e-04\n",
            "Model: \"sequential\"\n",
            "_________________________________________________________________\n",
            " Layer (type)                Output Shape              Param #   \n",
            "=================================================================\n",
            " lstm (LSTM)                 (None, 14, 256)           267264    \n",
            "                                                                 \n",
            " dropout (Dropout)           (None, 14, 256)           0         \n",
            "                                                                 \n",
            " lstm_1 (LSTM)               (None, 128)               197120    \n",
            "                                                                 \n",
            " dropout_1 (Dropout)         (None, 128)               0         \n",
            "                                                                 \n",
            " dense (Dense)               (None, 64)                8256      \n",
            "                                                                 \n",
            " dense_1 (Dense)             (None, 1)                 65        \n",
            "                                                                 \n",
            "=================================================================\n",
            "Total params: 472705 (1.80 MB)\n",
            "Trainable params: 472705 (1.80 MB)\n",
            "Non-trainable params: 0 (0.00 Byte)\n",
            "_________________________________________________________________\n"
          ]
        }
      ]
    },
    {
      "cell_type": "code",
      "source": [
        "y_pred = model.predict(x_test)"
      ],
      "metadata": {
        "colab": {
          "base_uri": "https://localhost:8080/"
        },
        "id": "ozMam57I1n7a",
        "outputId": "77d687fe-8c63-4a58-d2f2-2a82dac17026"
      },
      "execution_count": null,
      "outputs": [
        {
          "output_type": "stream",
          "name": "stdout",
          "text": [
            "9/9 [==============================] - 1s 3ms/step\n"
          ]
        }
      ]
    },
    {
      "cell_type": "markdown",
      "source": [
        "## Result Solution"
      ],
      "metadata": {
        "id": "-9kVpU0EHob_"
      }
    },
    {
      "cell_type": "code",
      "source": [
        "# 스케일링된 데이터를 원래 값으로 되돌리기\n",
        "test_ori = y_test.reshape(len(y_test), 1)\n",
        "pred_ori = y_pred.reshape(len(y_pred), 1)\n",
        "test_ori = scaler.inverse_transform(test_ori)\n",
        "pred_ori = scaler.inverse_transform(pred_ori)\n",
        "test_ori = test_ori.ravel()\n",
        "pred_ori = pred_ori.ravel()\n",
        "\n",
        "revenue = 1 # 수익률\n",
        "long_pos, short_pos = {'win': 0, 'los': 0}, {'win': 0, 'los': 0}  # 승패\n",
        "\n",
        "if majorData == 3 or majorData == 9:\n",
        "  ######################## 종가 데이터의 수익률 예측 ########################\n",
        "  for i in range(1, len(y_pred)):\n",
        "    # 롱 포지션일때\n",
        "    if result_seq[i-1]['close'] < pred_ori[i]:\n",
        "      # 당일 예측가보다 최고가가 크다면\n",
        "      if pred_ori[i] <= result_seq[i]['high']:\n",
        "        revenue *= (1 + abs(pred_ori[i] - result_seq[i-1]['close']) / result_seq[i-1]['close'])\n",
        "        long_pos['win'] += 1\n",
        "      # 전일대비 가격이 상승했다면\n",
        "      elif result_seq[i-1]['close'] < result_seq[i]['close']:\n",
        "        revenue *= (1 + abs(result_seq[i]['close'] - result_seq[i-1]['close']) / result_seq[i-1]['close'])\n",
        "        long_pos['win'] += 1\n",
        "      # 전일대비 가격이 하락했다면\n",
        "      elif result_seq[i-1]['close'] > result_seq[i]['close']:\n",
        "        revenue *= (1 - abs(result_seq[i]['close'] - result_seq[i-1]['close']) / result_seq[i-1]['close'])\n",
        "        long_pos['los'] += 1\n",
        "    # 숏 포지션일때\n",
        "    elif result_seq[i-1]['close'] > pred_ori[i]:\n",
        "      # 당일 예측가보다 최저가가 작다면\n",
        "      if pred_ori[i] >= result_seq[i]['low']:\n",
        "        revenue *= (1 + abs(pred_ori[i] - result_seq[i-1]['close']) / result_seq[i-1]['close'])\n",
        "        short_pos['win'] += 1\n",
        "      # 전일대비 가격이 상승했다면\n",
        "      elif result_seq[i-1]['close'] < result_seq[i]['close']:\n",
        "        revenue *= (1 - abs(result_seq[i]['close'] - result_seq[i-1]['close']) / result_seq[i-1]['close'])\n",
        "        short_pos['los'] += 1\n",
        "      # 전일대비 가격이 하락했다면\n",
        "      elif result_seq[i-1]['close'] > result_seq[i]['close']:\n",
        "        revenue *= (1 + abs(result_seq[i]['close'] - result_seq[i-1]['close']) / result_seq[i-1]['close'])\n",
        "        short_pos['win'] += 1\n",
        "  ###########################################################################\n",
        "\n",
        "rate = (long_pos['win'] + short_pos['win']) / (long_pos['win'] + long_pos['los'] + short_pos['win'] + short_pos['los'])\n",
        "\n",
        "long_pos, short_pos, round(rate, 3), revenue"
      ],
      "metadata": {
        "colab": {
          "base_uri": "https://localhost:8080/"
        },
        "id": "IezijSqPGSvz",
        "outputId": "b2a5a8b5-a3d9-4aa6-a73c-6c7e32acbf04"
      },
      "execution_count": null,
      "outputs": [
        {
          "output_type": "execute_result",
          "data": {
            "text/plain": [
              "({'win': 51, 'los': 16}, {'win': 161, 'los': 54}, 0.752, 1.9450392263504435)"
            ]
          },
          "metadata": {},
          "execution_count": 28
        }
      ]
    },
    {
      "cell_type": "code",
      "source": [
        "plt.figure()\n",
        "plt.plot(test_ori, color='gray')\n",
        "plt.plot(pred_ori, color='red')\n",
        "plt.show()"
      ],
      "metadata": {
        "colab": {
          "base_uri": "https://localhost:8080/",
          "height": 430
        },
        "id": "iK_diLyq2m7t",
        "outputId": "640b341a-0649-42fb-8533-79db52898103"
      },
      "execution_count": null,
      "outputs": [
        {
          "output_type": "display_data",
          "data": {
            "text/plain": [
              "<Figure size 640x480 with 1 Axes>"
            ],
            "image/png": "[encoded data removed]"
          },
          "metadata": {}
        }
      ]
    },
    {
      "cell_type": "code",
      "source": [
        "# y_pred를 1차원 배열로 변환합니다.\n",
        "y_pred = y_pred.reshape(-1)\n",
        "# scipy의 pearsonr 함수를 사용하여 피어슨 상관계수를 계산합니다.\n",
        "corr, _ = pearsonr(y_pred, y_test)\n",
        "print(\"Pearson correlation: %.3f\" % corr)"
      ],
      "metadata": {
        "id": "31jJhQjf2xVx",
        "colab": {
          "base_uri": "https://localhost:8080/"
        },
        "outputId": "ecd668cb-332b-4c7d-a080-1c14dd0ae22e"
      },
      "execution_count": null,
      "outputs": [
        {
          "output_type": "stream",
          "name": "stdout",
          "text": [
            "Pearson correlation: 0.893\n"
          ]
        }
      ]
    },
    {
      "cell_type": "code",
      "source": [],
      "metadata": {
        "id": "GV8pjHHxyLVY"
      },
      "execution_count": null,
      "outputs": []
    }
  ]
}